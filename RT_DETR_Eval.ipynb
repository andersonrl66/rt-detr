{
 "cells": [
  {
   "cell_type": "code",
   "execution_count": null,
   "metadata": {
    "id": "jZfcAlm-wU_q"
   },
   "outputs": [],
   "source": [
    "import os\n",
    "import subprocess\n",
    "from subprocess import Popen, PIPE"
   ]
  },
  {
   "cell_type": "code",
   "execution_count": null,
   "metadata": {
    "id": "xwbLZFeGZQpi"
   },
   "outputs": [],
   "source": [
    "def post_early_stopping_checking(metrics, patience, min_delta = 0):\n",
    "\n",
    "    if not metrics or patience < 1:\n",
    "        return -1  # Retorna -1 se a lista for vazia ou a paciência inválida\n",
    "\n",
    "    consecutive_drops = 0  # Contador de quedas consecutivas\n",
    "\n",
    "    for i in range(1, len(metrics)):\n",
    "        # Verifica se houve um decrescimento maior que min_delta\n",
    "        #print(metrics[i],metrics[i-1])\n",
    "        if metrics[i] < (metrics[i - 1] + min_delta):\n",
    "            consecutive_drops += 1\n",
    "            #print(consecutive_drops)\n",
    "            if consecutive_drops > patience:  # Verifica se excedeu a paciência\n",
    "                return i  # Retorna a posição onde a paciência foi excedida\n",
    "        else:\n",
    "            consecutive_drops = 0  # Reseta o contador se não houver decrescimento\n",
    "\n",
    "    return -1\n"
   ]
  },
  {
   "cell_type": "code",
   "execution_count": null,
   "metadata": {
    "id": "iJNmO4oVZQpi"
   },
   "outputs": [],
   "source": [
    "import matplotlib.pyplot as plt\n",
    "\n",
    "# Gráfico Épocas x Losses x Ap50\n",
    "def imprime_grafico_epocas_losses_ap50(epocas,losses,valores_ap50,modelo,lr,epochs):\n",
    "    # Convertendo para tipos numéricos\n",
    "    epocas = [int(e) for e in epocas]\n",
    "    loss = [float(l) for l in losses]\n",
    "    ap50 = [float(ap) for ap in valores_ap50]\n",
    "\n",
    "    # Encontrando os valores de destaque\n",
    "    min_loss = min(loss)\n",
    "    min_loss_epoca = epocas[loss.index(min_loss)]\n",
    "\n",
    "    max_ap50 = max(ap50)\n",
    "    max_ap50_epoca = epocas[ap50.index(max_ap50)]\n",
    "\n",
    "    # Criando a figura e os eixos\n",
    "    fig, ax1 = plt.subplots(figsize=(10, 6))\n",
    "\n",
    "    # Plotando loss (eixo esquerdo)\n",
    "    ax1.plot(epocas, loss, marker='o', linestyle='-', color='b', label='Loss')\n",
    "    ax1.set_xlabel('Epoch', fontsize=12)\n",
    "    ax1.set_ylabel('Loss', fontsize=12, color='b')\n",
    "    ax1.tick_params(axis='y', labelcolor='b')\n",
    "    ax1.grid(True, linestyle='--', alpha=0.7)\n",
    "    # Destacando o menor loss\n",
    "    ax1.scatter(min_loss_epoca, min_loss, color='red', label=f'Min Loss: {min_loss:.4f} (Epoch {min_loss_epoca})', zorder=5)\n",
    "\n",
    "    # Criando um segundo eixo y para ap50\n",
    "    ax2 = ax1.twinx()\n",
    "    ax2.plot(epocas, ap50, marker='s', linestyle='--', color='g', label='AP50')\n",
    "    ax2.set_ylabel('AP50', fontsize=12, color='g')\n",
    "    ax2.tick_params(axis='y', labelcolor='g')\n",
    "    # Destacando o maior ap50\n",
    "    ax2.scatter(max_ap50_epoca, max_ap50, color='purple', label=f'Max ap50: {max_ap50:.4f} (Epoch {max_ap50_epoca})', zorder=5)\n",
    "    # Verfica early stopping\n",
    "    early_stopping_epoch = post_early_stopping_checking(ap50, patience=2, min_delta = 0.0001)\n",
    "    if early_stopping_epoch >= 0:\n",
    "        ax2.scatter(early_stopping_epoch, ap50[early_stopping_epoch], color='purple', s=200, label='Early Stopping', edgecolor='black')\n",
    "\n",
    "#        # Adicionar uma anotação (label)\n",
    "#        plt.annotate(\n",
    "#            \"Ponto importante\",  # Texto da anotação\n",
    "#            (highlight_x, highlight_y),  # Coordenadas do ponto\n",
    "#            textcoords=\"offset points\",  # Coordenadas relativas\n",
    "#            xytext=(10, 10),  # Offset para o texto\n",
    "#            ha='center',  # Alinhamento horizontal\n",
    "#            fontsize=10,  # Tamanho da fonte\n",
    "#            arrowprops=dict(facecolor='black', arrowstyle='->')  # Adiciona uma seta\n",
    "#)\n",
    "\n",
    "\n",
    "    # Título e legendas\n",
    "    plt.title(f'Epoch x Loss e ap50 modelo:{modelo} lr:{lr} epochs:{epochs}', fontsize=16)\n",
    "\n",
    "    # Adicionando as legendas\n",
    "    fig.legend(loc='upper center', bbox_to_anchor=(0.5, 1.15), fontsize=12, ncol=2)\n",
    "\n",
    "    fig.tight_layout()\n",
    "    plt.show()\n"
   ]
  },
  {
   "cell_type": "code",
   "execution_count": null,
   "metadata": {
    "id": "f_IouneWZQpj"
   },
   "outputs": [],
   "source": [
    "import matplotlib.pyplot as plt\n",
    "import numpy as np\n",
    "\n",
    "def imprime_grafico_epocas_losses_kfold(conjuntos_dados,modelo,lr,epochs):\n",
    "    # Inicializando o gráfico\n",
    "    plt.figure(figsize=(12, 8))\n",
    "    menores_losses = []\n",
    "\n",
    "    # Plotando os dados\n",
    "    for k_fold, valores in conjuntos_dados.items():\n",
    "        epocas = [int(e) for e in valores['epocas']]\n",
    "        losses = [float(l) for l in valores['losses']]\n",
    "\n",
    "        # Menor loss e época correspondente\n",
    "        min_loss = min(losses)\n",
    "        min_loss_epoca = epocas[losses.index(min_loss)]\n",
    "        menores_losses.append(min_loss)\n",
    "\n",
    "        # Linha do gráfico\n",
    "        plt.plot(epocas, losses, label=f'K-Fold {k_fold}', linestyle='-', marker='o')\n",
    "        # Destaque do menor loss\n",
    "        plt.scatter(min_loss_epoca, min_loss, color='red', label=f'Min Loss K-Fold {k_fold}: {min_loss:.4f}', zorder=5)\n",
    "\n",
    "    # Média dos menores losses\n",
    "    media_menores = np.mean(menores_losses)\n",
    "\n",
    "    # Adicionando a linha de média\n",
    "    plt.axhline(media_menores, color='blue', linestyle='--', label=f'Average of Min Losses: {media_menores:.4f}', zorder=4)\n",
    "\n",
    "    # Configurações do gráfico\n",
    "    plt.title(f'Epoch x Loss x K-Fold modelo:{modelo} lr:{lr} epochs:{epochs}', fontsize=16)\n",
    "    plt.xlabel('Époch', fontsize=14)\n",
    "    plt.ylabel('Loss', fontsize=14)\n",
    "    plt.grid(alpha=0.3)\n",
    "    plt.legend(fontsize=10, loc='upper right', bbox_to_anchor=(1.0, 1.0))\n",
    "    plt.tight_layout()\n",
    "\n",
    "    # Exibindo o gráfico\n",
    "    plt.show()\n",
    "\n",
    "\n"
   ]
  },
  {
   "cell_type": "code",
   "execution_count": null,
   "metadata": {
    "id": "5LAJR0gWZQpj"
   },
   "outputs": [],
   "source": [
    "import matplotlib.pyplot as plt\n",
    "import numpy as np\n",
    "\n",
    "def imprime_grafico_epocas_ap50_kfold(conjuntos_dados,modelo,lr,epochs):\n",
    "    # Inicializando o gráfico\n",
    "    plt.figure(figsize=(12, 8))\n",
    "    maiores_ap50 = []\n",
    "\n",
    "    # Plotando os dados\n",
    "    for k_fold, valores in conjuntos_dados.items():\n",
    "        epocas = [int(e) for e in valores['epocas']]\n",
    "        ap50 = [float(l) for l in valores['valores_ap50']]\n",
    "\n",
    "        # Menor loss e época correspondente\n",
    "        max_ap50 = max(ap50)\n",
    "        max_ap50_epoca = epocas[ap50.index(max_ap50)]\n",
    "        maiores_ap50.append(max_ap50)\n",
    "\n",
    "        # Linha do gráfico\n",
    "        plt.plot(epocas, ap50, label=f'K-Fold {k_fold}', linestyle='-', marker='o')\n",
    "        # Destaque do maior ap50\n",
    "        plt.scatter(max_ap50_epoca, max_ap50, color='red', label=f'Max ap50 K-Fold {k_fold}: {max_ap50:.4f}', zorder=5)\n",
    "        # Verfica early stopping\n",
    "        early_stopping_epoch = post_early_stopping_checking(ap50, patience=2, min_delta = 0.0001)\n",
    "        if early_stopping_epoch >= 0:\n",
    "            plt.scatter(early_stopping_epoch, ap50[early_stopping_epoch], color='purple', s=200, label='Early Stopping', edgecolor='black')\n",
    "\n",
    "    # Média dos menores losses\n",
    "    media_maiores = np.mean(maiores_ap50)\n",
    "\n",
    "    # Adicionando a linha de média\n",
    "    plt.axhline(media_maiores, color='blue', linestyle='--', label=f'Average of Max ap50: {media_maiores:.4f}', zorder=4)\n",
    "\n",
    "    # Configurações do gráfico\n",
    "    plt.title(f'Epoch x ap50 x K-Fold modelo:{modelo} lr:{lr} epochs:{epochs}', fontsize=16)\n",
    "    plt.xlabel('Epoch', fontsize=14)\n",
    "    plt.ylabel('ap50', fontsize=14)\n",
    "    plt.grid(alpha=0.3)\n",
    "    plt.legend(fontsize=10, loc='lower right', bbox_to_anchor=(1.0, 0.1))\n",
    "    plt.tight_layout()\n",
    "\n",
    "    # Exibindo o gráfico\n",
    "    plt.show()"
   ]
  },
  {
   "cell_type": "code",
   "execution_count": null,
   "metadata": {
    "id": "ZaGMqQqNUs-J"
   },
   "outputs": [],
   "source": [
    "import os\n",
    "import re\n",
    "\n",
    "def imprime_graficos_treinamento(output_file, experimento):\n",
    "\n",
    "    modelo = experimento['modelo']\n",
    "    lr = experimento['lr']\n",
    "    epochs = experimento['epochs']\n",
    "    if os.path.exists(output_file):\n",
    "        with open(output_file, 'r') as f:\n",
    "            lines = f.readlines()\n",
    "\n",
    "        epoca_ant = ''\n",
    "        epocas = []\n",
    "        losses = []\n",
    "        valores_ap50 = []\n",
    "\n",
    "        id_conjunto_dados = 0\n",
    "        conjuntos_dados = {}\n",
    "\n",
    "        for line in lines:\n",
    "\n",
    "            pattern_epoca = r\"Epoch:\\s*\\[(\\d+)\\]\"\n",
    "            epoca = re.search(pattern_epoca, line)\n",
    "            pattern_ap50 = r\"Average Precision\\s+\\(AP\\)\\s+@\\[\\s*IoU=0\\.50\\s*\\|\\s*area=\\s+all\\s+\\|\\s*maxDets=100\\s*\\]\\s*=\\s*([0-9.]+)\"\n",
    "            ap_50 = re.search(pattern_ap50,line)\n",
    "            if epoca:\n",
    "                if epoca.group(1) != epoca_ant:\n",
    "                    if epoca_ant != '' and int(epoca.group(1)) < int(epoca_ant):\n",
    "                            #str_conjunto_dados = str(id_conjunto_dados)\n",
    "                            conjunto_dados = {'epocas':epocas, 'losses':losses,'valores_ap50':valores_ap50}\n",
    "                            conjuntos_dados[id_conjunto_dados] = conjunto_dados\n",
    "                            id_conjunto_dados += 1\n",
    "                            epoca_ant = ''\n",
    "                            epocas = []\n",
    "                            losses = []\n",
    "                            valores_ap50 = []\n",
    "                    #print(epoca.group(1))\n",
    "                    epocas.append(epoca.group(1))\n",
    "                    epoca_ant = epoca.group(1)\n",
    "                else:\n",
    "                    pattern_loss = r'loss:\\s([0-9.]+)'\n",
    "                    loss = re.search(pattern_loss,epoca.string)\n",
    "                    if loss:\n",
    "                        #print(loss.group(1))\n",
    "                        losses.append(loss.group(1))\n",
    "            if ap_50:\n",
    "                valor_ap50 = ap_50.group(1).split(' ')[-1]\n",
    "                #print(valor_ap50)\n",
    "                valores_ap50.append(valor_ap50)\n",
    "        #print('epoch = ',epocas)\n",
    "        #print('loss = ',losses)\n",
    "        #print('ap50 = ',valores_ap50)\n",
    "        if id_conjunto_dados == 0:\n",
    "            imprime_grafico_epocas_losses_ap50(epocas,losses,valores_ap50,modelo,lr,epochs)\n",
    "        else:\n",
    "            epocas = conjuntos_dados[0]['epocas']\n",
    "            losses = conjuntos_dados[0]['losses']\n",
    "            valor_ap50 = conjuntos_dados[0]['valores_ap50']\n",
    "            imprime_grafico_epocas_losses_ap50(epocas,losses,valores_ap50,modelo,lr,epochs)\n",
    "            conjunto_dados = {'epocas':epocas, 'losses':losses,'valores_ap50':valores_ap50}\n",
    "            conjuntos_dados[id_conjunto_dados] = conjunto_dados\n",
    "            imprime_grafico_epocas_losses_kfold(conjuntos_dados,modelo,lr,epochs)\n",
    "            imprime_grafico_epocas_ap50_kfold(conjuntos_dados,modelo,lr,epochs)\n"
   ]
  },
  {
   "cell_type": "code",
   "execution_count": null,
   "metadata": {
    "colab": {
     "base_uri": "https://localhost:8080/"
    },
    "id": "UMYRoo7BcvRy",
    "outputId": "bf2d5fac-e5fc-41ff-c3a2-8bfce6176206"
   },
   "outputs": [],
   "source": [
    "# Load the Drive helper and mount\n",
    "from google.colab import drive\n",
    "drive.mount('/content/drive', force_remount=True)"
   ]
  },
  {
   "cell_type": "code",
   "execution_count": null,
   "metadata": {
    "colab": {
     "base_uri": "https://localhost:8080/",
     "height": 1000
    },
    "id": "JNoB8UdQwU_r",
    "outputId": "2e1763cd-2be2-45e3-ed6d-7772c6afc2f5"
   },
   "outputs": [],
   "source": [
    "import sys\n",
    "versao_modelo='rtdetr_pytorch'\n",
    "\n",
    "experimentos = [ {'id': '1_a' , 'modelo': 'rtdetr_r50vd_6x_coco', 'lr': '0.00125', 'epochs': '24'},\n",
    "                 {'id': '1_b','modelo': 'rtdetr_r50vd_6x_coco', 'lr': '0.0001', 'epochs': '24'},\n",
    "                 {'id': '1_c','modelo': 'rtdetr_r50vd_6x_coco', 'lr': '0.0001', 'epochs': '72'},\n",
    "                 {'id': '1_d','modelo': 'rtdetr_r50vd_6x_coco', 'lr': '0.0001', 'epochs': '100'},\n",
    "]\n",
    "\n",
    "#logs_path = os.path.join('.','logs')\n",
    "logs_path = os.path.join(os.sep,'content','drive','MyDrive','RT_DETR','logs')\n",
    "\n",
    "for experimento in experimentos:\n",
    "    print(experimento)\n",
    "    id = experimento['id']\n",
    "    output_file = os.path.join(logs_path, id, 'saida_'+id)\n",
    "    imprime_graficos_treinamento(output_file,experimento)\n",
    "\n"
   ]
  },
  {
   "cell_type": "code",
   "execution_count": null,
   "metadata": {
    "colab": {
     "base_uri": "https://localhost:8080/"
    },
    "id": "BDJ0261vZQpk",
    "outputId": "3a917741-3540-485c-f448-d08e93e6d40c"
   },
   "outputs": [],
   "source": [
    "# verificação da versão do pytorch\n",
    "!pip list | grep torch"
   ]
  },
  {
   "cell_type": "code",
   "execution_count": null,
   "metadata": {
    "id": "UMGKa4sbZb5U"
   },
   "outputs": [],
   "source": [
    "import os\n",
    "from os.path import exists, join, basename, splitext\n",
    "git_repo_url = 'https://github.com/lyuwenyu/RT-DETR.git'\n",
    "project_name = splitext(basename(git_repo_url))[0]"
   ]
  },
  {
   "cell_type": "code",
   "execution_count": null,
   "metadata": {
    "colab": {
     "base_uri": "https://localhost:8080/"
    },
    "id": "zIEx5tcVZhfS",
    "outputId": "1e453cdc-e3e8-41a1-8b80-99a53dd60abc"
   },
   "outputs": [],
   "source": [
    "%cd /content\n",
    "git_repo_url = 'https://github.com/lyuwenyu/RT-DETR.git'\n",
    "project_name = splitext(basename(git_repo_url))[0]\n",
    "if not exists(project_name):\n",
    "  !pip install torch==2.0.1\n",
    "  !pip install torchvision==0.15.2\n",
    "  !pip install torchaudio==2.0.2\n",
    "  !pip install onnx==1.14.0\n",
    "  !pip install onnxruntime==1.15.1\n",
    "  !pip install pycocotools\n",
    "  !pip install PyYAML\n",
    "  !pip install scipy"
   ]
  },
  {
   "cell_type": "code",
   "execution_count": null,
   "metadata": {
    "colab": {
     "base_uri": "https://localhost:8080/"
    },
    "id": "s_SQ1MVacmF1",
    "outputId": "e7be53ad-fa66-4066-eb0c-181af52e45a8"
   },
   "outputs": [],
   "source": [
    "print(project_name)"
   ]
  },
  {
   "cell_type": "code",
   "execution_count": null,
   "metadata": {
    "colab": {
     "base_uri": "https://localhost:8080/"
    },
    "id": "rHvu_9KVZmr5",
    "outputId": "884ae527-8ac3-420e-b5c1-6a1980bc3680"
   },
   "outputs": [],
   "source": [
    "!pip list | grep torch"
   ]
  },
  {
   "cell_type": "code",
   "execution_count": null,
   "metadata": {
    "colab": {
     "base_uri": "https://localhost:8080/"
    },
    "id": "cAFOddYscyg7",
    "outputId": "7295d534-be3d-4bf3-87a9-51dbf18b17fc"
   },
   "outputs": [],
   "source": [
    "# verifica GPU\n",
    "!nvidia-smi"
   ]
  },
  {
   "cell_type": "code",
   "execution_count": null,
   "metadata": {
    "id": "TScZe1H_czPT"
   },
   "outputs": [],
   "source": [
    "import os\n",
    "import subprocess\n",
    "from subprocess import Popen, PIPE"
   ]
  },
  {
   "cell_type": "code",
   "execution_count": null,
   "metadata": {
    "id": "zkN4SxVcc7Xa"
   },
   "outputs": [],
   "source": [
    "# training on single-gpu\n",
    "\n",
    "def avalia_modelo(config_modelo,image_set,checkpoint_path):\n",
    "\n",
    "    arquivo_saida_2 = '/content/1_d_'+image_set+'_test.txt'\n",
    "    #arquivo_saida_3 = '/content/1_d_'+image_set+'_test_onnx.txt'\n",
    "    #comando_1 = f'touch {arquivo_saida_2} && touch {arquivo_saida_3}'\n",
    "    comando_1 = f'touch {arquivo_saida_2}'\n",
    "    comando_2 = f\"\"\"\n",
    "    export CUDA_VISIBLE_DEVICES=0 &&\n",
    "    python /content/drive/MyDrive/RT_DETR/RT-DETR/rtdetr_pytorch/tools/train.py -c {config_modelo} -r {checkpoint_path} --test-only | tee {arquivo_saida_2}\n",
    "    \"\"\"\n",
    "    print(comando_2)\n",
    "    #comando_3 = f\"\"\"\n",
    "    #python /content/drive/MyDrive/RT_DETR/RT-DETR/rtdetr_pytorch/tools/export_onnx.py -c {config_modelo} -r {checkpoint_path} --check | tee {arquivo_saida_3}\n",
    "    #\"\"\"\n",
    "    !$comando_1\n",
    "    !$comando_2\n",
    "    #!$comando_3\n"
   ]
  },
  {
   "cell_type": "code",
   "execution_count": null,
   "metadata": {
    "id": "x7nNNiCBdAPD"
   },
   "outputs": [],
   "source": [
    "def obtem_lista_modelos(path_configs_modelos) -> list :\n",
    "    lista_modelos = []\n",
    "    files = os.listdir(path_configs_modelos)\n",
    "    for file in files:\n",
    "        if file.startswith('rtdetr') and file.endswith('.yml'):\n",
    "            lista_modelos.append(file)\n",
    "    return lista_modelos"
   ]
  },
  {
   "cell_type": "code",
   "execution_count": null,
   "metadata": {
    "id": "RcD3XLimdDxa"
   },
   "outputs": [],
   "source": [
    "def copia_configs(configs_path,custom_configs_path,modelo,image_set):\n",
    "    nome_modelo = modelo.split('.')[0]\n",
    "    #print(nome_modelo)\n",
    "    arquivo_origem = os.path.join(custom_configs_path,'optimizer.yml')\n",
    "    arquivo_destino = os.path.join(configs_path,'rtdetr','include','optimizer.yml')\n",
    "    comando = f'cp {arquivo_origem} {arquivo_destino}'\n",
    "    #print(comando)\n",
    "    subprocess.Popen(comando, shell=True)\n",
    "\n",
    "    arquivo_origem = os.path.join(custom_configs_path,'coco_detection_'+image_set+'_test.yml')\n",
    "    arquivo_destino = os.path.join(configs_path,'dataset','coco_detection.yml')\n",
    "    comando = f'cp {arquivo_origem} {arquivo_destino}'\n",
    "    #print(comando)\n",
    "    subprocess.Popen(comando, shell=True)\n",
    "\n",
    "    arquivo_origem = os.path.join(custom_configs_path,nome_modelo+'_'+image_set+'.yml')\n",
    "    arquivo_destino = os.path.join(configs_path,'rtdetr',modelo)\n",
    "    comando = f'cp {arquivo_origem} {arquivo_destino}'\n",
    "    #print(comando)\n",
    "    subprocess.Popen(comando, shell=True)\n",
    "\n",
    "    return"
   ]
  },
  {
   "cell_type": "code",
   "execution_count": null,
   "metadata": {
    "id": "4wzSV_Q4eDIc"
   },
   "outputs": [],
   "source": [
    "from google.colab import files\n",
    "import shutil\n",
    "\n",
    "def avalia_modelos(project_path,lista_modelos,lista_image_set):\n",
    "    configs_path = os.path.join(project_path,'configs')\n",
    "    custom_configs_path = os.path.join(configs_path,'rtdetr','projeto_1_d')\n",
    "    for modelo in lista_modelos:\n",
    "        for image_set in lista_image_set:\n",
    "            print('Início da avaliação do modelo ', modelo, ' para o conjunto de imagens ', image_set)\n",
    "            copia_configs(configs_path=configs_path,custom_configs_path=custom_configs_path,modelo=modelo,image_set=image_set)\n",
    "            config_modelo = os.path.join(configs_path,'rtdetr',modelo)\n",
    "            output_path = os.path.join(os.sep,'content','output','1_d','rtdetr_r50vd_6x_coco_'+image_set)\n",
    "            checkpoint_path = os.path.join('/content/drive/MyDrive/RT_DETR/RT-DETR/train/1_d',image_set,'best.pth')\n",
    "            avalia_modelo(config_modelo,image_set,checkpoint_path)\n",
    "\n",
    "            origem_copia = '/content/1_d_'+image_set+'_test.txt'\n",
    "            destino_copia = os.path.join('/content/drive/MyDrive/RT_DETR/RT-DETR','eval','1_d',image_set)\n",
    "            if os.path.isfile(origem_copia):\n",
    "              if not os.path.exists(destino_copia):\n",
    "                  os.makedirs(destino_copia)\n",
    "              #files.download(origem_download)\n",
    "              shutil.copy(origem_copia,destino_copia)\n",
    "\n",
    "            origem_copia = '/content/1_d_'+image_set+'_test_onnx.txt'\n",
    "            if os.path.isfile(origem_copia):\n",
    "              if not os.path.exists(destino_copia):\n",
    "                  os.makedirs(destino_copia)\n",
    "              #files.download(origem_download)\n",
    "              shutil.copy(origem_copia,destino_copia)\n",
    "\n"
   ]
  },
  {
   "cell_type": "code",
   "execution_count": null,
   "metadata": {
    "colab": {
     "base_uri": "https://localhost:8080/"
    },
    "id": "6Dha2_eme31N",
    "outputId": "95367cf3-92d0-4ef4-c6f7-02b0c252702b"
   },
   "outputs": [],
   "source": [
    "import sys\n",
    "versao_modelo='rtdetr_pytorch'\n",
    "\n",
    "project_path=os.path.join('/content/drive/MyDrive/RT_DETR/RT-DETR',versao_modelo)\n",
    "sys.path.append(project_path)\n",
    "path_config_modelos = os.path.join(project_path,'configs','rtdetr')\n",
    "#print(path_config_modelos)\n",
    "#lista_modelos = obtem_lista_modelos(path_config_modelos)\n",
    "#lista_modelos = ['rtdetr_r50vd_6x_coco.yml','rtdetr_r34vd_6x_coco.yml']\n",
    "lista_modelos = ['rtdetr_r50vd_6x_coco.yml']\n",
    "#print(lista_modelos)\n",
    "dataset_path = os.path.join(os.sep,'content','drive','MyDrive','RT_DETR','RT-DETR','dataset')\n",
    "img_list_path = os.path.join(dataset_path,'img_list')\n",
    "#img_list_path = '/content/drive/MyDrive/RT_DETR/dataset/img_list'\n",
    "#lista_image_set = os.listdir(img_list_path)\n",
    "#lista_image_set = ['0','1','2','3','4']\n",
    "lista_image_set = ['0','1','2','3','4']\n",
    "lista_image_set.sort()\n",
    "avalia_modelos(project_path,lista_modelos,lista_image_set)"
   ]
  },
  {
   "cell_type": "code",
   "execution_count": null,
   "metadata": {
    "colab": {
     "base_uri": "https://localhost:8080/",
     "height": 522
    },
    "id": "QlNThhfd3jsI",
    "outputId": "80e97457-656c-4288-f100-97eec0eab025"
   },
   "outputs": [],
   "source": [
    "import matplotlib.pyplot as plt\n",
    "\n",
    "# Dados de AP50\n",
    "ap50_values = [0.6370, 0.6470, 0.6820, 0.6410, 0.6460]\n",
    "\n",
    "# Criando o box-plot\n",
    "plt.figure(figsize=(8, 6))  # Ajusta o tamanho da figura\n",
    "plt.boxplot(ap50_values, labels=[\"RT-DETR\"])\n",
    "#plt.title(\"Distribuição dos Valores de AP50 para RT-DETR\")\n",
    "plt.ylabel(\"AP50\")\n",
    "plt.show()\n"
   ]
  },
  {
   "cell_type": "code",
   "execution_count": null,
   "metadata": {
    "id": "uY62sQj53YUi"
   },
   "outputs": [],
   "source": [
    "def inferencia(config_modelo,image_path,checkpoint_path):\n",
    "\n",
    "    #arquivo_saida = '/content/1_d_'+image_set+'_infer.txt'\n",
    "    #arquivo_saida_3 = '/content/1_d_'+image_set+'_test_onnx.txt'\n",
    "    #comando_1 = f'touch {arquivo_saida_2} && touch {arquivo_saida_3}'\n",
    "    #comando_1 = f'touch {arquivo_saida}'\n",
    "    comando_2 = f\"\"\"\n",
    "    export CUDA_VISIBLE_DEVICES=0 &&\n",
    "    python /content/drive/MyDrive/RT_DETR/RT-DETR/rtdetr_pytorch/tools/infer.py -c {config_modelo} -r {checkpoint_path} -f {image_path}  -nc 25\n",
    "    \"\"\"\n",
    "    print(comando_2)\n",
    "    #!$comando_1\n",
    "    !$comando_2\n"
   ]
  },
  {
   "cell_type": "code",
   "execution_count": null,
   "metadata": {
    "colab": {
     "base_uri": "https://localhost:8080/"
    },
    "id": "2ETwh0BWtv_Z",
    "outputId": "02e0d7ae-038b-4db4-937d-c424c02bbebc"
   },
   "outputs": [],
   "source": [
    "import os\n",
    "modelo = 'rtdetr_r50vd_6x_coco.yml'\n",
    "versao_modelo='rtdetr_pytorch'\n",
    "\n",
    "image_set = '3'\n",
    "project_path=os.path.join('/content/drive/MyDrive/RT_DETR/RT-DETR',versao_modelo)\n",
    "checkpoint_path = os.path.join('/content/drive/MyDrive/RT_DETR/RT-DETR/train/1_c',image_set,'best.pth')\n",
    "configs_path = os.path.join(project_path,'configs')\n",
    "config_modelo = os.path.join(configs_path,'rtdetr',modelo)\n",
    "image_path = '/content/0.png'\n",
    "inferencia(config_modelo,image_path,checkpoint_path)"
   ]
  },
  {
   "cell_type": "code",
   "execution_count": null,
   "metadata": {
    "id": "Lcv3e8zIy7OC"
   },
   "outputs": [],
   "source": []
  }
 ],
 "metadata": {
  "accelerator": "GPU",
  "colab": {
   "gpuType": "T4",
   "provenance": []
  },
  "kernelspec": {
   "display_name": "Python 3",
   "name": "python3"
  },
  "language_info": {
   "codemirror_mode": {
    "name": "ipython",
    "version": 3
   },
   "file_extension": ".py",
   "mimetype": "text/x-python",
   "name": "python",
   "nbconvert_exporter": "python",
   "pygments_lexer": "ipython3",
   "version": "3.13.0"
  }
 },
 "nbformat": 4,
 "nbformat_minor": 0
}
