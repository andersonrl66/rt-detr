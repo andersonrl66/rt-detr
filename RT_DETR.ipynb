{
 "cells": [
  {
   "cell_type": "code",
   "execution_count": null,
   "metadata": {
    "colab": {
     "base_uri": "https://localhost:8080/"
    },
    "id": "yzKd0R5nIGO4",
    "outputId": "c0fb96c5-63d3-4a03-d3e5-6453fb53b6b7"
   },
   "outputs": [],
   "source": [
    "# verificação da versão do pytorch\n",
    "!pip list | grep torch"
   ]
  },
  {
   "cell_type": "code",
   "execution_count": null,
   "metadata": {
    "id": "nvjaifG-BJqT"
   },
   "outputs": [],
   "source": [
    "import os\n",
    "from os.path import exists, join, basename, splitext\n",
    "git_repo_url = 'https://github.com/lyuwenyu/RT-DETR.git'\n",
    "project_name = splitext(basename(git_repo_url))[0]"
   ]
  },
  {
   "cell_type": "code",
   "execution_count": null,
   "metadata": {
    "colab": {
     "base_uri": "https://localhost:8080/"
    },
    "id": "j9WfDqEbLMa0",
    "outputId": "570515db-1532-48a5-d1b2-250e59a25445"
   },
   "outputs": [],
   "source": [
    "\n",
    "\n",
    "%cd /content\n",
    "git_repo_url = 'https://github.com/lyuwenyu/RT-DETR.git'\n",
    "project_name = splitext(basename(git_repo_url))[0]\n",
    "if not exists(project_name):\n",
    "  !pip install torch==2.0.1\n",
    "  !pip install torchvision==0.15.2\n",
    "  !pip install torchaudio==2.0.2\n",
    "  !pip install onnx==1.14.0\n",
    "  !pip install onnxruntime==1.15.1\n",
    "  !pip install pycocotools\n",
    "  !pip install PyYAML\n",
    "  !pip install scipy\n"
   ]
  },
  {
   "cell_type": "code",
   "execution_count": null,
   "metadata": {
    "colab": {
     "base_uri": "https://localhost:8080/"
    },
    "id": "HC0oR0PKVirw",
    "outputId": "1bb4b8c2-361b-4c22-c216-f94949cb231a"
   },
   "outputs": [],
   "source": [
    "print(project_name)"
   ]
  },
  {
   "cell_type": "code",
   "execution_count": null,
   "metadata": {
    "colab": {
     "base_uri": "https://localhost:8080/"
    },
    "id": "waU0CvVvIkJc",
    "outputId": "fc1197f7-b00f-467a-8e06-a918db6b5fa2"
   },
   "outputs": [],
   "source": [
    "!pip list | grep torch"
   ]
  },
  {
   "cell_type": "code",
   "execution_count": null,
   "metadata": {
    "colab": {
     "base_uri": "https://localhost:8080/"
    },
    "id": "zpNjQ1nxSRtN",
    "outputId": "8cefd91f-2422-4948-bfe2-a43fefe58856"
   },
   "outputs": [],
   "source": [
    "# Load the Drive helper and mount\n",
    "from google.colab import drive\n",
    "drive.mount('/content/drive', force_remount=True)"
   ]
  },
  {
   "cell_type": "code",
   "execution_count": null,
   "metadata": {
    "colab": {
     "base_uri": "https://localhost:8080/"
    },
    "id": "sBBtNI5yT36t",
    "outputId": "49cb9630-b7db-44b8-dc99-5fd438d835e9"
   },
   "outputs": [],
   "source": [
    "# verifica GPU\n",
    "!nvidia-smi"
   ]
  },
  {
   "cell_type": "code",
   "execution_count": null,
   "metadata": {
    "id": "jZfcAlm-wU_q"
   },
   "outputs": [],
   "source": [
    "import os\n",
    "import subprocess\n",
    "from subprocess import Popen, PIPE"
   ]
  },
  {
   "cell_type": "code",
   "execution_count": null,
   "metadata": {
    "id": "_D0CRT--T6LB"
   },
   "outputs": [],
   "source": [
    "# training on single-gpu\n",
    "\n",
    "def treina_modelo(config_modelo,image_set):\n",
    "\n",
    "    arquivo_saida = '/content/1_d_'+image_set+'.txt'\n",
    "    comando_1 = f'touch {arquivo_saida}'\n",
    "    comando_2 = f\"\"\"\n",
    "    export CUDA_VISIBLE_DEVICES=0 &&\n",
    "    python /content/drive/MyDrive/RT_DETR/RT-DETR/rtdetr_pytorch/tools/train.py -c {config_modelo} | tee {arquivo_saida}\n",
    "    \"\"\"\n",
    "    print(comando_2)\n",
    "    !$comando_1\n",
    "    !$comando_2\n",
    "    #process = subprocess.Popen(comando, stdout=PIPE, stderr=None, shell=True)\n",
    "    #output = process.communicate()[0]\n",
    "    #print(output)\n"
   ]
  },
  {
   "cell_type": "code",
   "execution_count": null,
   "metadata": {
    "id": "pGjTI7fdnGWA"
   },
   "outputs": [],
   "source": [
    "def obtem_lista_modelos(path_configs_modelos) -> list :\n",
    "    lista_modelos = []\n",
    "    files = os.listdir(path_configs_modelos)\n",
    "    for file in files:\n",
    "        if file.startswith('rtdetr') and file.endswith('.yml'):\n",
    "            lista_modelos.append(file)\n",
    "    return lista_modelos"
   ]
  },
  {
   "cell_type": "code",
   "execution_count": null,
   "metadata": {
    "id": "cLXKNN8ywU_r"
   },
   "outputs": [],
   "source": [
    "def copia_configs(configs_path,custom_configs_path,modelo,image_set):\n",
    "    nome_modelo = modelo.split('.')[0]\n",
    "    #print(nome_modelo)\n",
    "    arquivo_origem = os.path.join(custom_configs_path,'optimizer.yml')\n",
    "    arquivo_destino = os.path.join(configs_path,'rtdetr','include','optimizer.yml')\n",
    "    comando = f'cp {arquivo_origem} {arquivo_destino}'\n",
    "    #print(comando)\n",
    "    subprocess.Popen(comando, shell=True)\n",
    "\n",
    "    arquivo_origem = os.path.join(custom_configs_path,'coco_detection_'+image_set+'.yml')\n",
    "    arquivo_destino = os.path.join(configs_path,'dataset','coco_detection.yml')\n",
    "    comando = f'cp {arquivo_origem} {arquivo_destino}'\n",
    "    #print(comando)\n",
    "    subprocess.Popen(comando, shell=True)\n",
    "\n",
    "    arquivo_origem = os.path.join(custom_configs_path,nome_modelo+'_'+image_set+'.yml')\n",
    "    arquivo_destino = os.path.join(configs_path,'rtdetr',modelo)\n",
    "    comando = f'cp {arquivo_origem} {arquivo_destino}'\n",
    "    #print(comando)\n",
    "    subprocess.Popen(comando, shell=True)\n",
    "\n",
    "    return"
   ]
  },
  {
   "cell_type": "code",
   "execution_count": null,
   "metadata": {
    "id": "hNz9qkROeOSx"
   },
   "outputs": [],
   "source": [
    "def exclui_checkpoints(modelo,image_set):\n",
    "    nome_modelo = modelo.split('.')[0]+'_'+image_set\n",
    "    rm_dir = os.path.join(os.sep,'content','output','1_d',nome_modelo)\n",
    "    print(rm_dir)\n",
    "    if os.path.exists(rm_dir):\n",
    "        comando = f'rm -rf {rm_dir}'+'/*.pth'\n",
    "        print(comando)\n",
    "        !$comando\n",
    "    return"
   ]
  },
  {
   "cell_type": "code",
   "execution_count": null,
   "metadata": {
    "id": "_J_hEuPxCTRG"
   },
   "outputs": [],
   "source": [
    "# import os\n",
    "# rm_dir = '/content/output/1_d/rtdetr_r50vd_6x_coco_0'\n",
    "# rm_dir = '/content/output/1_d/rtdetr_r50vd_6x_coco'\n",
    "# print(rm_dir)\n",
    "# if os.path.exists(rm_dir):\n",
    "#     comando = f'rm -rf {rm_dir}'+'/*.pth'\n",
    "#     !$comando\n",
    "#     #print(comando)\n"
   ]
  },
  {
   "cell_type": "code",
   "execution_count": null,
   "metadata": {
    "id": "Zz4glpnjwU_r"
   },
   "outputs": [],
   "source": [
    "from google.colab import files\n",
    "import shutil\n",
    "\n",
    "def treina_modelos(project_path,lista_modelos,lista_image_set):\n",
    "    configs_path = os.path.join(project_path,'configs')\n",
    "    custom_configs_path = os.path.join(configs_path,'rtdetr','projeto_1_d')\n",
    "    for modelo in lista_modelos:\n",
    "        for image_set in lista_image_set:\n",
    "            print('Início do treinamento do modelo ', modelo, ' para o conjunto de imagens ', image_set)\n",
    "            copia_configs(configs_path=configs_path,custom_configs_path=custom_configs_path,modelo=modelo,image_set=image_set)\n",
    "            config_modelo = os.path.join(configs_path,'rtdetr',modelo)\n",
    "            treina_modelo(config_modelo,image_set)\n",
    "            exclui_checkpoints(modelo,image_set)\n",
    "            output_path = os.path.join(os.sep,'content','output','1_d','rtdetr_r50vd_6x_coco_'+image_set)\n",
    "            #zip_file = os.path.join(output_path,'1_d_rtdetr_r50vd_6x_coco_'+image_set+'.zip')\n",
    "            #origem_zip = os.path.join(output_path,'eval')\n",
    "            #comando = '!zip -r '+zip_file+' '+origem_zip\n",
    "            #print(comando)\n",
    "            #!$comando\n",
    "\n",
    "            origem_copia = os.path.join(output_path,'eval','best.pth')\n",
    "            destino_copia = os.path.join('/content/drive/MyDrive/RT_DETR/RT-DETR','train','1_d',image_set)\n",
    "            if os.path.isfile(origem_copia):\n",
    "              if not os.path.exists(destino_copia):\n",
    "                  os.makedirs(destino_copia)\n",
    "              #files.download(origem_download)\n",
    "              shutil.copy(origem_copia,destino_copia)\n",
    "\n",
    "            origem_copia = os.path.join(output_path,'eval','latest.pth')\n",
    "            if os.path.isfile(origem_copia):\n",
    "              if not os.path.exists(destino_copia):\n",
    "                  os.makedirs(destino_copia)\n",
    "              #files.download(origem_download)\n",
    "              shutil.copy(origem_copia,destino_copia)\n",
    "\n",
    "            origem_copia = os.path.join(os.sep,'content','1_d_'+image_set+'.txt')\n",
    "            if os.path.isfile(origem_copia):\n",
    "              if not os.path.exists(destino_copia):\n",
    "                  os.makedirs(destino_copia)\n",
    "              #files.download(origem_download)\n",
    "              shutil.copy(origem_copia,destino_copia)\n",
    "\n"
   ]
  },
  {
   "cell_type": "code",
   "execution_count": null,
   "metadata": {
    "colab": {
     "base_uri": "https://localhost:8080/"
    },
    "id": "JNoB8UdQwU_r",
    "outputId": "d1b4b708-363a-4fd7-9514-27b8a1ba7521"
   },
   "outputs": [],
   "source": [
    "import sys\n",
    "versao_modelo='rtdetr_pytorch'\n",
    "\n",
    "project_path=os.path.join('/content/drive/MyDrive/RT_DETR/RT-DETR',versao_modelo)\n",
    "sys.path.append(project_path)\n",
    "path_config_modelos = os.path.join(project_path,'configs','rtdetr')\n",
    "#print(path_config_modelos)\n",
    "#lista_modelos = obtem_lista_modelos(path_config_modelos)\n",
    "#lista_modelos = ['rtdetr_r50vd_6x_coco.yml','rtdetr_r34vd_6x_coco.yml']\n",
    "lista_modelos = ['rtdetr_r50vd_6x_coco.yml']\n",
    "#print(lista_modelos)\n",
    "dataset_path = os.path.join(os.sep,'content','drive','MyDrive','RT_DETR','RT-DETR','dataset')\n",
    "img_list_path = os.path.join(dataset_path,'img_list')\n",
    "#img_list_path = '/content/drive/MyDrive/RT_DETR/dataset/img_list'\n",
    "#lista_image_set = os.listdir(img_list_path)\n",
    "lista_image_set = ['4']\n",
    "lista_image_set.sort()\n",
    "treina_modelos(project_path,lista_modelos,lista_image_set)\n"
   ]
  },
  {
   "cell_type": "code",
   "execution_count": null,
   "metadata": {
    "id": "aoOso80AV-ds"
   },
   "outputs": [],
   "source": [
    "#!zip -r /content/output/1_d/rtdetr_r50vd_6x_coco_2/1_d_rtdetr_r50vd_6x_coco_2.zip /content/output/1_d/rtdetr_r50vd_6x_coco_2/eval"
   ]
  },
  {
   "cell_type": "code",
   "execution_count": null,
   "metadata": {
    "id": "4fAUxGxjwU_r"
   },
   "outputs": [],
   "source": [
    "# !zip -r /content/output/1_d/rtdetr_r50vd_6x_coco_0/1_d_rtdetr_r50vd_6x_coco_0.zip /content/output/1_d/rtdetr_r50vd_6x_coco_0/eval\n",
    "# !zip -r /content/output/1_d/rtdetr_r50vd_6x_coco_1/1_d_rtdetr_r50vd_6x_coco_1.zip /content/output/1_d/rtdetr_r50vd_6x_coco_1/eval\n",
    "# !zip -r /content/output/1_d/rtdetr_r50vd_6x_coco_2/1_d_rtdetr_r50vd_6x_coco_2.zip /content/output/1_d/rtdetr_r50vd_6x_coco_2/eval\n",
    "# !zip -r /content/output/1_d/rtdetr_r50vd_6x_coco_3/1_d_rtdetr_r50vd_6x_coco_3.zip /content/output/1_d/rtdetr_r50vd_6x_coco_3/eval\n",
    "# !zip -r /content/output/1_d/rtdetr_r50vd_6x_coco_4/1_d_rtdetr_r50vd_6x_coco_4.zip /content/output/1_d/rtdetr_r50vd_6x_coco_4/eval\n",
    "\n",
    "# # !zip -r /content/output/1_d/rtdetr_r50vd_6x_coco_0/eval\n",
    "# # !zip -r /content/output/1_d/rtdetr_r50vd_6x_coco_1/eval\n",
    "# # !zip -r /content/output/1_d/rtdetr_r50vd_6x_coco_2/eval\n",
    "# # !zip -r /content/output/1_d/rtdetr_r50vd_6x_coco_3/eval\n",
    "# # !zip -r /content/output/1_d/rtdetr_r50vd_6x_coco_4/eval\n",
    "\n",
    "# from google.colab import files\n",
    "# files.download(\"/content/output/1_d/rtdetr_r50vd_6x_coco_0/1_d_rtdetr_r50vd_6x_coco_0.zip\")\n",
    "# files.download(\"/content/output/1_d/rtdetr_r50vd_6x_coco_1/1_d_rtdetr_r50vd_6x_coco_1.zip\")\n",
    "# files.download(\"/content/output/1_d/rtdetr_r50vd_6x_coco_2/1_d_rtdetr_r50vd_6x_coco_2.zip\")\n",
    "# files.download(\"/content/output/1_d/rtdetr_r50vd_6x_coco_3/1_d_rtdetr_r50vd_6x_coco_3.zip\")\n",
    "# files.download(\"/content/output/1_d/rtdetr_r50vd_6x_coco_4/1_d_rtdetr_r50vd_6x_coco_4.zip\")\n",
    "\n",
    "# # files.download(\"/content/output/1_d/rtdetr_r50vd_6x_coco_0/eval.zip\")\n",
    "# # files.download(\"/content/output/1_d/rtdetr_r50vd_6x_coco_0/eval.zip\")\n",
    "# # files.download(\"/content/output/1_d/rtdetr_r50vd_6x_coco_0/eval.zip\")\n",
    "# # files.download(\"/content/output/1_d/rtdetr_r50vd_6x_coco_0/eval.zip\")\n",
    "# # files.download(\"/content/output/1_d/rtdetr_r50vd_6x_coco_0/eval.zip\")\n",
    "\n",
    "# files.download(\"/content/output/1_d/rtdetr_r50vd_6x_coco_0/log.txt\")\n",
    "# files.download(\"/content/output/1_d/rtdetr_r50vd_6x_coco_1/log.txt\")\n",
    "# files.download(\"/content/output/1_d/rtdetr_r50vd_6x_coco_2/log.txt\")\n",
    "# files.download(\"/content/output/1_d/rtdetr_r50vd_6x_coco_3/log.txt\")\n",
    "# files.download(\"/content/output/1_d/rtdetr_r50vd_6x_coco_4/log.txt\")\n",
    "\n",
    "# files.download(\"/content/output/1_d.txt\")"
   ]
  }
 ],
 "metadata": {
  "accelerator": "GPU",
  "colab": {
   "gpuType": "T4",
   "provenance": []
  },
  "kernelspec": {
   "display_name": "Python 3",
   "name": "python3"
  },
  "language_info": {
   "codemirror_mode": {
    "name": "ipython",
    "version": 3
   },
   "file_extension": ".py",
   "mimetype": "text/x-python",
   "name": "python",
   "nbconvert_exporter": "python",
   "pygments_lexer": "ipython3",
   "version": "3.13.0"
  }
 },
 "nbformat": 4,
 "nbformat_minor": 0
}
